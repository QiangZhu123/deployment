{
 "cells": [
  {
   "cell_type": "markdown",
   "metadata": {},
   "source": [
    "#### TorchScript 有自己的编译器，而不是PYTHON编译器，打破Global Interpreter Lock限制；可以保存模型并且部署到其他设备上；更加高效；可以使用更多其他后端的模型操作；可以直接在C++内使用。"
   ]
  },
  {
   "cell_type": "code",
   "execution_count": 2,
   "metadata": {},
   "outputs": [],
   "source": [
    "import torch"
   ]
  },
  {
   "cell_type": "code",
   "execution_count": null,
   "metadata": {},
   "outputs": [],
   "source": [
    "#转换方法\n",
    "class MyCell(torch.nn.Module):\n",
    "    def __init__(self):\n",
    "        super(MyCell, self).__init__()\n",
    "        self.linear = torch.nn.Linear(4, 4)\n",
    "\n",
    "    def forward(self, x, h):\n",
    "        new_h = torch.tanh(self.linear(x) + h)\n",
    "        return new_h, new_h\n",
    "#实例化一个模型\n",
    "my_cell = MyCell()\n",
    "#设定输入\n",
    "x, h = torch.rand(3, 4), torch.rand(3, 4)\n",
    "#转化\n",
    "traced_cell = torch.jit.trace(my_cell, (x, h))\n",
    "print(traced_cell)\n",
    "traced_cell(x, h)\n",
    "\n",
    "print(traced_cell.graph)\n",
    "#更好看，不过这个是具体的执行过程，如果网络中有分支的话，就会被擦掉。\n",
    "#script compiler可以将分支也表现出来\n",
    "print(traced_cell.code)"
   ]
  },
  {
   "cell_type": "code",
   "execution_count": null,
   "metadata": {},
   "outputs": [],
   "source": [
    "scripted_gate = torch.jit.script(MyCell())\n",
    "print(scripted_gate.code)"
   ]
  },
  {
   "cell_type": "code",
   "execution_count": null,
   "metadata": {},
   "outputs": [],
   "source": [
    "# script和trace是可以复合使用的，处理分支的存在\n",
    "traced.save('wrapped_rnn.pt')\n",
    "loaded = torch.jit.load('wrapped_rnn.pt')"
   ]
  },
  {
   "cell_type": "markdown",
   "metadata": {},
   "source": [
    "### STEP1:       先写OP的C++执行文件，称为op.cpp   这个是新版本的\n",
    "    当前TorchScript 编译器只能使用固定格式数据 \n",
    "    torch::Tensor, torch::Scalar,  double,   int64_t ,std::vector\n",
    "### STEP2: 编译 ninja\n",
    "    JIT"
   ]
  },
  {
   "cell_type": "code",
   "execution_count": null,
   "metadata": {},
   "outputs": [],
   "source": [
    "from torch.utils.cpp_extension import load\n",
    "\n",
    "module = torch.utils.cpp_extension.load(name='addfunc',\n",
    "                         sources=['test.cpp'],\n",
    "                        is_python_module=False,\n",
    "                        verbose=True\n",
    "                     )\n",
    "\n",
    "print(torch.ops.myops.addfunc)"
   ]
  },
  {
   "cell_type": "markdown",
   "metadata": {},
   "source": [
    "### load_line \n"
   ]
  },
  {
   "cell_type": "code",
   "execution_count": null,
   "metadata": {},
   "outputs": [],
   "source": [
    "#!pip install ninja\n",
    "import torch\n",
    "import torch.utils.cpp_extension\n",
    "op_source = \"\"\"\n",
    "#include <torch/script.h>\n",
    "#include <torch/custom_class.h>\n",
    "#include <iostream>\n",
    "#include <string>\n",
    "#include <vector>\n",
    "\n",
    "// ===================自定义函数=====================\n",
    "torch::Tensor warp_perspective(const torch::Tensor& image)\n",
    "{\n",
    "    return image;\n",
    "}\n",
    "\n",
    "// my_ops::warp_perspective 就会表示成torch.ops.myops.warp_perspective       \n",
    "static auto registry=torch::RegisterOperators(\"my_ops::warp_perspective\",&warp_perspective);\n",
    "\"\"\"\n",
    "torch.utils.cpp_extension.load_inline(\n",
    "    name=\"warp_perspective\",\n",
    "    cpp_sources=op_source,\n",
    "    is_python_module=False,\n",
    "    verbose=True,\n",
    ")\n",
    "#使用就可以直接导入 import warp_perspective\n",
    "print(torch.ops.my_ops.warp_perspective)"
   ]
  },
  {
   "cell_type": "markdown",
   "metadata": {},
   "source": [
    "### 第二种方法 setuptools  \n",
    "#### setup.py"
   ]
  },
  {
   "cell_type": "code",
   "execution_count": null,
   "metadata": {},
   "outputs": [],
   "source": [
    "from setuptools import setup\n",
    "from torch.utils.cpp_extension import BuildExtension, CppExtension\n",
    "\n",
    "setup(\n",
    "    name=\"baomingzi\",\n",
    "    ext_modules=[\n",
    "        CppExtension(\n",
    "            \"mmcv.addfunc\",#这是模块路径，生成addfunc.so动态库\n",
    "            [\"test.cpp\"],\n",
    "            libraries=[\"opencv_core\", \"opencv_imgproc\"],\n",
    "        )\n",
    "    ],\n",
    "    cmdclass={\"build_ext\": BuildExtension.with_options(no_python_abi_suffix=True)},\n",
    ")"
   ]
  },
  {
   "cell_type": "code",
   "execution_count": null,
   "metadata": {},
   "outputs": [],
   "source": [
    "#使用方法rt torch\n",
    "#至关重要！！！！！！！！在build/lib/mmcv/add路径下有add.so，导入即可使用,看清楚模块路径和函数名字的区别\n",
    "torch.ops.load_library(\"add.so\")\n",
    "print(torch.ops.my_ops.warp_perspective)\n"
   ]
  },
  {
   "cell_type": "code",
   "execution_count": null,
   "metadata": {},
   "outputs": [],
   "source": [
    "torch.ops.load_library(\"libwarp_perspective.so\")\n",
    "\n",
    "@torch.jit.script\n",
    "def compute(x, y):\n",
    "    if bool(x[0] == 42):\n",
    "        z = 5\n",
    "    else:\n",
    "        z = 10\n",
    "    x = torch.ops.my_ops.warp_perspective(x, torch.eye(3))\n",
    "    return x.matmul(y) + z"
   ]
  },
  {
   "cell_type": "markdown",
   "metadata": {},
   "source": [
    "# LOADING A TORCHSCRIPT MODEL IN C++  \n",
    "#### Step 1: Converting Your PyTorch Model to TorchScript"
   ]
  },
  {
   "cell_type": "code",
   "execution_count": null,
   "metadata": {},
   "outputs": [],
   "source": [
    "import torch\n",
    "from torch import nn\n",
    "import torchvision\n",
    "model = torchvision.models.resnet18()\n",
    "example = torch.rand(1, 3, 224, 224)\n",
    "traced_script_module = torch.jit.trace(model, example)\n",
    "\n",
    "\n",
    "#当模型中有if结构的时候，要用stript来处理\n",
    "class MyModule(nn.Module):\n",
    "    def __init__(self, N, M):\n",
    "        super(MyModule, self).__init__()\n",
    "        self.weight = torch.nn.Parameter(torch.rand(N, M))\n",
    "\n",
    "    def forward(self, input):\n",
    "        if input.sum() > 0:\n",
    "            output = self.weight.mv(input)\n",
    "        else:\n",
    "            output = self.weight + input\n",
    "        return output\n",
    "\n",
    "my_module = MyModule(10,20)\n",
    "sm = torch.jit.script(my_module)"
   ]
  },
  {
   "cell_type": "markdown",
   "metadata": {},
   "source": [
    "#### Step 2: Serializing Your Script Module to a File"
   ]
  },
  {
   "cell_type": "code",
   "execution_count": null,
   "metadata": {},
   "outputs": [],
   "source": [
    "traced_script_module.save(\"traced_resnet_model.pt\")"
   ]
  },
  {
   "cell_type": "markdown",
   "metadata": {},
   "source": [
    "#### Step 3: Loading Your Script Module in C++"
   ]
  },
  {
   "cell_type": "code",
   "execution_count": null,
   "metadata": {},
   "outputs": [],
   "source": [
    "mkdir build\n",
    "cd build\n",
    "cmake -DCMAKE_PREFIX_PATH=/path/to/libtorch ..#下载这个\n",
    "cmake --build . --config Release"
   ]
  }
 ],
 "metadata": {
  "kernelspec": {
   "display_name": "Python 3 (ipykernel)",
   "language": "python",
   "name": "python3"
  },
  "language_info": {
   "codemirror_mode": {
    "name": "ipython",
    "version": 3
   },
   "file_extension": ".py",
   "mimetype": "text/x-python",
   "name": "python",
   "nbconvert_exporter": "python",
   "pygments_lexer": "ipython3",
   "version": "3.10.0"
  }
 },
 "nbformat": 4,
 "nbformat_minor": 2
}
