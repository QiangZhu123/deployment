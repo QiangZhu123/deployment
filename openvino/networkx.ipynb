{
 "cells": [
  {
   "cell_type": "code",
   "execution_count": 1,
   "id": "92886789",
   "metadata": {},
   "outputs": [],
   "source": [
    "import networkx as nx\n",
    "import matplotlib.pyplot as plt"
   ]
  },
  {
   "cell_type": "markdown",
   "id": "a7de1c33",
   "metadata": {},
   "source": [
    "# 创建一个图"
   ]
  },
  {
   "cell_type": "code",
   "execution_count": 26,
   "id": "a5dec4c2",
   "metadata": {},
   "outputs": [],
   "source": [
    "#共有四种图可以使用，\n",
    "g = nx.MultiDiGraph()\n",
    "#g = nx.Graph(date=\"10.11\",name=\"有向图\") 传入字典键值对，直接构建出字典"
   ]
  },
  {
   "cell_type": "code",
   "execution_count": 29,
   "id": "605647d1",
   "metadata": {},
   "outputs": [
    {
     "data": {
      "text/plain": [
       "{'edge_key_dict_factory': dict,\n",
       " 'graph_attr_dict_factory': dict,\n",
       " 'node_dict_factory': dict,\n",
       " 'node_attr_dict_factory': dict,\n",
       " 'adjlist_outer_dict_factory': dict,\n",
       " 'adjlist_inner_dict_factory': dict,\n",
       " 'edge_attr_dict_factory': dict,\n",
       " 'graph': {'name': 'test', 'time': 2017},\n",
       " '_node': {},\n",
       " '_adj': {},\n",
       " '_pred': {},\n",
       " '_succ': {}}"
      ]
     },
     "execution_count": 29,
     "metadata": {},
     "output_type": "execute_result"
    }
   ],
   "source": [
    "#图就是一个字典\n",
    "g.__dict__"
   ]
  },
  {
   "cell_type": "code",
   "execution_count": 28,
   "id": "bd5bb3d0",
   "metadata": {},
   "outputs": [],
   "source": [
    "#图属性，可以向图中键入任何数据\n",
    "g.graph['name']='test'\n",
    "g.graph['time']=2017\n"
   ]
  },
  {
   "cell_type": "code",
   "execution_count": 30,
   "id": "dd0bbb88",
   "metadata": {},
   "outputs": [
    {
     "data": {
      "text/plain": [
       "{'name': 'test', 'time': 2017}"
      ]
     },
     "execution_count": 30,
     "metadata": {},
     "output_type": "execute_result"
    }
   ],
   "source": [
    "#查看图属性，并没有\n",
    "g.graph"
   ]
  },
  {
   "cell_type": "code",
   "execution_count": 31,
   "id": "4bf9ff21",
   "metadata": {},
   "outputs": [
    {
     "data": {
      "text/plain": [
       "'test'"
      ]
     },
     "execution_count": 31,
     "metadata": {},
     "output_type": "execute_result"
    }
   ],
   "source": [
    "#用字典的方法处理\n",
    "g.graph.pop('name')"
   ]
  },
  {
   "cell_type": "code",
   "execution_count": 32,
   "id": "3839d21f",
   "metadata": {},
   "outputs": [
    {
     "name": "stdout",
     "output_type": "stream",
     "text": [
      "b\n"
     ]
    }
   ],
   "source": [
    "for a in g.graph:\n",
    "    g.graph[a]='b'\n",
    "    print(g.graph[a])"
   ]
  },
  {
   "cell_type": "code",
   "execution_count": 33,
   "id": "837e06d3",
   "metadata": {},
   "outputs": [
    {
     "data": {
      "text/plain": [
       "{'edge_key_dict_factory': dict,\n",
       " 'graph_attr_dict_factory': dict,\n",
       " 'node_dict_factory': dict,\n",
       " 'node_attr_dict_factory': dict,\n",
       " 'adjlist_outer_dict_factory': dict,\n",
       " 'adjlist_inner_dict_factory': dict,\n",
       " 'edge_attr_dict_factory': dict,\n",
       " 'graph': {'time': 'b'},\n",
       " '_node': {},\n",
       " '_adj': {},\n",
       " '_pred': {},\n",
       " '_succ': {}}"
      ]
     },
     "execution_count": 33,
     "metadata": {},
     "output_type": "execute_result"
    }
   ],
   "source": [
    "g.__dict__"
   ]
  },
  {
   "cell_type": "markdown",
   "id": "e7344fc1",
   "metadata": {},
   "source": [
    "# 节点"
   ]
  },
  {
   "cell_type": "code",
   "execution_count": 35,
   "id": "2818b569",
   "metadata": {},
   "outputs": [],
   "source": [
    "#添加节点，他们全是key，值也是一个字典\n",
    "g.add_node('a',test=5)\n",
    "g.add_node('b',a=7,b=8,d='s')\n",
    "g.add_node('c',a='b')\n",
    "g.add_node('d')"
   ]
  },
  {
   "cell_type": "code",
   "execution_count": 36,
   "id": "32a930ea",
   "metadata": {},
   "outputs": [
    {
     "data": {
      "text/plain": [
       "{'edge_key_dict_factory': dict,\n",
       " 'graph_attr_dict_factory': dict,\n",
       " 'node_dict_factory': dict,\n",
       " 'node_attr_dict_factory': dict,\n",
       " 'adjlist_outer_dict_factory': dict,\n",
       " 'adjlist_inner_dict_factory': dict,\n",
       " 'edge_attr_dict_factory': dict,\n",
       " 'graph': {'time': 'b'},\n",
       " '_node': {'a': {'test': 5},\n",
       "  'b': {'a': 7, 'b': 8, 'd': 's'},\n",
       "  'c': {'a': 'b'},\n",
       "  'd': {}},\n",
       " '_adj': {'a': {}, 'b': {}, 'c': {}, 'd': {}},\n",
       " '_pred': {'a': {}, 'b': {}, 'c': {}, 'd': {}},\n",
       " '_succ': {'a': {}, 'b': {}, 'c': {}, 'd': {}}}"
      ]
     },
     "execution_count": 36,
     "metadata": {},
     "output_type": "execute_result"
    }
   ],
   "source": [
    "g.__dict__"
   ]
  },
  {
   "cell_type": "code",
   "execution_count": 41,
   "id": "f0652c9d",
   "metadata": {},
   "outputs": [
    {
     "data": {
      "text/plain": [
       "NodeView(('a', 'b', 'c', 'd'))"
      ]
     },
     "execution_count": 41,
     "metadata": {},
     "output_type": "execute_result"
    }
   ],
   "source": [
    "#查看所有的节点\n",
    "#nodes是一个字典，每个node都是字典键值，其attr是值，也是一个字典\n",
    "g.nodes"
   ]
  },
  {
   "cell_type": "code",
   "execution_count": 42,
   "id": "a7e0b8a8",
   "metadata": {},
   "outputs": [
    {
     "data": {
      "text/plain": [
       "{'test': 5}"
      ]
     },
     "execution_count": 42,
     "metadata": {},
     "output_type": "execute_result"
    }
   ],
   "source": [
    "#选中单个节点，也是用名字来选定\n",
    "g.nodes['a']"
   ]
  },
  {
   "cell_type": "code",
   "execution_count": 47,
   "id": "96b4d1e8",
   "metadata": {},
   "outputs": [],
   "source": [
    "#直接选中后就可以对node的attr进行修改，\n",
    "g.nodes['a']['test']=6699\n",
    "g.nodes['a']['fff']=1"
   ]
  },
  {
   "cell_type": "code",
   "execution_count": 48,
   "id": "fd6cc125",
   "metadata": {},
   "outputs": [
    {
     "data": {
      "text/plain": [
       "{'test': 6699, 'fff': 1}"
      ]
     },
     "execution_count": 48,
     "metadata": {},
     "output_type": "execute_result"
    }
   ],
   "source": [
    "g.nodes['a']"
   ]
  },
  {
   "cell_type": "code",
   "execution_count": 50,
   "id": "678aaaa7",
   "metadata": {},
   "outputs": [],
   "source": [
    "#给定节点的数据，节点属性,只能用add_node添加节点，不能当字典初始化\n",
    "g.add_node(1,index='test')\n",
    "\n",
    "g.add_nodes_from([2,3], index='2/3th')\n",
    "\n",
    "#g.add_node(object) 直接创建一个以object为键值的节点"
   ]
  },
  {
   "cell_type": "code",
   "execution_count": 51,
   "id": "150d41c0",
   "metadata": {},
   "outputs": [
    {
     "data": {
      "text/plain": [
       "6699"
      ]
     },
     "execution_count": 51,
     "metadata": {},
     "output_type": "execute_result"
    }
   ],
   "source": [
    "#删除，也是使用字典的方法\n",
    "g.nodes['a'].pop('test')"
   ]
  },
  {
   "cell_type": "code",
   "execution_count": 52,
   "id": "b2989776",
   "metadata": {},
   "outputs": [],
   "source": [
    "#删除节点\n",
    "g.remove_node('a')"
   ]
  },
  {
   "cell_type": "code",
   "execution_count": 53,
   "id": "f25976df",
   "metadata": {},
   "outputs": [
    {
     "name": "stdout",
     "output_type": "stream",
     "text": [
      "[('b', {'a': 7, 'b': 8, 'd': 's'}), ('c', {'a': 'b'}), ('d', {}), (1, {'index': 'test'}), (2, {'index': '2/3th'}), (3, {'index': '2/3th'})]\n"
     ]
    }
   ],
   "source": [
    "print(g.nodes(data=True))\n",
    "#每个节点有自己的字典数据"
   ]
  },
  {
   "cell_type": "code",
   "execution_count": 54,
   "id": "09783c3c",
   "metadata": {},
   "outputs": [
    {
     "data": {
      "image/png": "[encoded data removed]",
      "text/plain": [
       "<Figure size 432x288 with 1 Axes>"
      ]
     },
     "metadata": {},
     "output_type": "display_data"
    }
   ],
   "source": [
    "nx.draw(g,with_labels=True)"
   ]
  },
  {
   "cell_type": "code",
   "execution_count": 56,
   "id": "f6a9d71c",
   "metadata": {},
   "outputs": [
    {
     "data": {
      "text/plain": [
       "[3, 2, 1, 'd', 'c', 'b']"
      ]
     },
     "execution_count": 56,
     "metadata": {},
     "output_type": "execute_result"
    }
   ],
   "source": [
    "list(nx.topological_sort(g))"
   ]
  },
  {
   "cell_type": "markdown",
   "id": "4b1a390f",
   "metadata": {},
   "source": [
    "# 边"
   ]
  },
  {
   "cell_type": "code",
   "execution_count": 59,
   "id": "72cc3d58",
   "metadata": {},
   "outputs": [
    {
     "data": {
      "text/plain": [
       "{'edge_key_dict_factory': dict,\n",
       " 'graph_attr_dict_factory': dict,\n",
       " 'node_dict_factory': dict,\n",
       " 'node_attr_dict_factory': dict,\n",
       " 'adjlist_outer_dict_factory': dict,\n",
       " 'adjlist_inner_dict_factory': dict,\n",
       " 'edge_attr_dict_factory': dict,\n",
       " 'graph': {'time': 'b'},\n",
       " '_node': {'d': {}, 'a': {}, 'z': {}, 'h': {}},\n",
       " '_adj': {'d': {}, 'a': {}, 'z': {'h': {0: {}}}, 'h': {}},\n",
       " '_pred': {'d': {}, 'a': {}, 'z': {}, 'h': {'z': {0: {}}}},\n",
       " '_succ': {'d': {}, 'a': {}, 'z': {'h': {0: {}}}, 'h': {}},\n",
       " 'nodes': NodeView(('d', 'a', 'z', 'h'))}"
      ]
     },
     "execution_count": 59,
     "metadata": {},
     "output_type": "execute_result"
    }
   ],
   "source": [
    "g.__dict__"
   ]
  },
  {
   "cell_type": "code",
   "execution_count": 60,
   "id": "22a1805e",
   "metadata": {},
   "outputs": [
    {
     "data": {
      "text/plain": [
       "1"
      ]
     },
     "execution_count": 60,
     "metadata": {},
     "output_type": "execute_result"
    }
   ],
   "source": [
    "#给两个节点创建一个边，从a到b,边是可以重复的\n",
    "#没有节点会去创建一个，保证一定生成边\n",
    "g.add_edge('a','b')\n",
    "g.add_edge('z','h')\n",
    "#返回的是该条边已经创建了几次"
   ]
  },
  {
   "cell_type": "code",
   "execution_count": 61,
   "id": "96e82eec",
   "metadata": {},
   "outputs": [
    {
     "data": {
      "text/plain": [
       "{'edge_key_dict_factory': dict,\n",
       " 'graph_attr_dict_factory': dict,\n",
       " 'node_dict_factory': dict,\n",
       " 'node_attr_dict_factory': dict,\n",
       " 'adjlist_outer_dict_factory': dict,\n",
       " 'adjlist_inner_dict_factory': dict,\n",
       " 'edge_attr_dict_factory': dict,\n",
       " 'graph': {'time': 'b'},\n",
       " '_node': {'d': {}, 'a': {}, 'z': {}, 'h': {}, 'b': {}},\n",
       " '_adj': {'d': {},\n",
       "  'a': {'b': {0: {}}},\n",
       "  'z': {'h': {0: {}, 1: {}}},\n",
       "  'h': {},\n",
       "  'b': {}},\n",
       " '_pred': {'d': {},\n",
       "  'a': {},\n",
       "  'z': {},\n",
       "  'h': {'z': {0: {}, 1: {}}},\n",
       "  'b': {'a': {0: {}}}},\n",
       " '_succ': {'d': {},\n",
       "  'a': {'b': {0: {}}},\n",
       "  'z': {'h': {0: {}, 1: {}}},\n",
       "  'h': {},\n",
       "  'b': {}},\n",
       " 'nodes': NodeView(('d', 'a', 'z', 'h', 'b'))}"
      ]
     },
     "execution_count": 61,
     "metadata": {},
     "output_type": "execute_result"
    }
   ],
   "source": [
    "g.__dict__"
   ]
  },
  {
   "cell_type": "code",
   "execution_count": 62,
   "id": "c11524c7",
   "metadata": {},
   "outputs": [],
   "source": [
    "#删除边\n",
    "g.remove_edge('a','b')\n"
   ]
  },
  {
   "cell_type": "code",
   "execution_count": 63,
   "id": "19518827",
   "metadata": {},
   "outputs": [
    {
     "name": "stdout",
     "output_type": "stream",
     "text": [
      "[('z', 'h', {}), ('z', 'h', {}), (1, 2, {'weight': 10})]\n"
     ]
    }
   ],
   "source": [
    "#边的属性\n",
    "g.add_edge(1,2,weight=10)                    #在添加边时分配属性\n",
    "print(g.edges(data=True))"
   ]
  },
  {
   "cell_type": "code",
   "execution_count": 64,
   "id": "ce54e17e",
   "metadata": {},
   "outputs": [
    {
     "data": {
      "text/plain": [
       "[('z', 'h', 0), ('z', 'h', 1), (1, 2, 0)]"
      ]
     },
     "execution_count": 64,
     "metadata": {},
     "output_type": "execute_result"
    }
   ],
   "source": [
    "#所有的边，这样遍历的话，就是用(u,v,key)\n",
    "list(g.edges)"
   ]
  },
  {
   "cell_type": "code",
   "execution_count": 65,
   "id": "f2b1a712",
   "metadata": {},
   "outputs": [
    {
     "data": {
      "text/plain": [
       "OutMultiEdgeDataView([(1, 2)])"
      ]
     },
     "execution_count": 65,
     "metadata": {},
     "output_type": "execute_result"
    }
   ],
   "source": [
    "#选中一条边,一定要给起始点，而不是终点\n",
    "#但是只有边，没有数据\n",
    "g.edges(1)"
   ]
  },
  {
   "cell_type": "code",
   "execution_count": 28,
   "id": "d080421a",
   "metadata": {},
   "outputs": [
    {
     "name": "stdout",
     "output_type": "stream",
     "text": [
      "10\n",
      "{'weight': 10}\n",
      "{0: {'weight': 10}}\n"
     ]
    }
   ],
   "source": [
    "#获得边的attr，要指定好边的起点和终点，一条边就要用[0]\n",
    "print(g.get_edge_data(1,2)[0]['weight'])\n",
    "print(g.get_edge_data(1,2)[0])\n",
    "print(g.get_edge_data(1,2))"
   ]
  },
  {
   "cell_type": "code",
   "execution_count": 66,
   "id": "8ddabdf4",
   "metadata": {},
   "outputs": [
    {
     "data": {
      "text/plain": [
       "{'weight': 10}"
      ]
     },
     "execution_count": 66,
     "metadata": {},
     "output_type": "execute_result"
    }
   ],
   "source": [
    "#从1到2的边attr,比上面方法更简单\n",
    "g[1][2][0]"
   ]
  },
  {
   "cell_type": "code",
   "execution_count": 67,
   "id": "80b07199",
   "metadata": {},
   "outputs": [
    {
     "data": {
      "image/png": "[encoded data removed]",
      "text/plain": [
       "<Figure size 432x288 with 1 Axes>"
      ]
     },
     "metadata": {},
     "output_type": "display_data"
    }
   ],
   "source": [
    "#画出整个图\n",
    "nx.draw(g,with_labels=True)"
   ]
  },
  {
   "cell_type": "code",
   "execution_count": 69,
   "id": "d24e479e",
   "metadata": {},
   "outputs": [],
   "source": [
    "class Node:\n",
    "    def __init__(self):\n",
    "        pass"
   ]
  },
  {
   "cell_type": "code",
   "execution_count": 70,
   "id": "20e67b33",
   "metadata": {},
   "outputs": [],
   "source": [
    "a=Node()"
   ]
  },
  {
   "cell_type": "code",
   "execution_count": 71,
   "id": "4e5bd995",
   "metadata": {},
   "outputs": [],
   "source": [
    "g.add_node(a)"
   ]
  },
  {
   "cell_type": "code",
   "execution_count": 72,
   "id": "15814dcb",
   "metadata": {},
   "outputs": [
    {
     "ename": "NetworkXError",
     "evalue": "The edge a-b is not in the graph.",
     "output_type": "error",
     "traceback": [
      "\u001b[1;31m---------------------------------------------------------------------------\u001b[0m",
      "\u001b[1;31mKeyError\u001b[0m                                  Traceback (most recent call last)",
      "File \u001b[1;32mc:\\users\\administrator\\appdata\\local\\programs\\python\\python38\\lib\\site-packages\\networkx\\classes\\multidigraph.py:544\u001b[0m, in \u001b[0;36mMultiDiGraph.remove_edge\u001b[1;34m(self, u, v, key)\u001b[0m\n\u001b[0;32m    543\u001b[0m \u001b[38;5;28;01mtry\u001b[39;00m:\n\u001b[1;32m--> 544\u001b[0m     d \u001b[38;5;241m=\u001b[39m \u001b[38;5;28;43mself\u001b[39;49m\u001b[38;5;241;43m.\u001b[39;49m\u001b[43m_adj\u001b[49m\u001b[43m[\u001b[49m\u001b[43mu\u001b[49m\u001b[43m]\u001b[49m\u001b[43m[\u001b[49m\u001b[43mv\u001b[49m\u001b[43m]\u001b[49m\n\u001b[0;32m    545\u001b[0m \u001b[38;5;28;01mexcept\u001b[39;00m \u001b[38;5;167;01mKeyError\u001b[39;00m \u001b[38;5;28;01mas\u001b[39;00m err:\n",
      "\u001b[1;31mKeyError\u001b[0m: 'b'",
      "\nThe above exception was the direct cause of the following exception:\n",
      "\u001b[1;31mNetworkXError\u001b[0m                             Traceback (most recent call last)",
      "Input \u001b[1;32mIn [72]\u001b[0m, in \u001b[0;36m<module>\u001b[1;34m\u001b[0m\n\u001b[1;32m----> 1\u001b[0m \u001b[43mg\u001b[49m\u001b[38;5;241;43m.\u001b[39;49m\u001b[43mremove_edge\u001b[49m\u001b[43m(\u001b[49m\u001b[38;5;124;43m'\u001b[39;49m\u001b[38;5;124;43ma\u001b[39;49m\u001b[38;5;124;43m'\u001b[39;49m\u001b[43m,\u001b[49m\u001b[38;5;124;43m'\u001b[39;49m\u001b[38;5;124;43mb\u001b[39;49m\u001b[38;5;124;43m'\u001b[39;49m\u001b[43m)\u001b[49m\n",
      "File \u001b[1;32mc:\\users\\administrator\\appdata\\local\\programs\\python\\python38\\lib\\site-packages\\networkx\\classes\\multidigraph.py:546\u001b[0m, in \u001b[0;36mMultiDiGraph.remove_edge\u001b[1;34m(self, u, v, key)\u001b[0m\n\u001b[0;32m    544\u001b[0m     d \u001b[38;5;241m=\u001b[39m \u001b[38;5;28mself\u001b[39m\u001b[38;5;241m.\u001b[39m_adj[u][v]\n\u001b[0;32m    545\u001b[0m \u001b[38;5;28;01mexcept\u001b[39;00m \u001b[38;5;167;01mKeyError\u001b[39;00m \u001b[38;5;28;01mas\u001b[39;00m err:\n\u001b[1;32m--> 546\u001b[0m     \u001b[38;5;28;01mraise\u001b[39;00m NetworkXError(\u001b[38;5;124mf\u001b[39m\u001b[38;5;124m\"\u001b[39m\u001b[38;5;124mThe edge \u001b[39m\u001b[38;5;132;01m{\u001b[39;00mu\u001b[38;5;132;01m}\u001b[39;00m\u001b[38;5;124m-\u001b[39m\u001b[38;5;132;01m{\u001b[39;00mv\u001b[38;5;132;01m}\u001b[39;00m\u001b[38;5;124m is not in the graph.\u001b[39m\u001b[38;5;124m\"\u001b[39m) \u001b[38;5;28;01mfrom\u001b[39;00m \u001b[38;5;21;01merr\u001b[39;00m\n\u001b[0;32m    547\u001b[0m \u001b[38;5;66;03m# remove the edge with specified data\u001b[39;00m\n\u001b[0;32m    548\u001b[0m \u001b[38;5;28;01mif\u001b[39;00m key \u001b[38;5;129;01mis\u001b[39;00m \u001b[38;5;28;01mNone\u001b[39;00m:\n",
      "\u001b[1;31mNetworkXError\u001b[0m: The edge a-b is not in the graph."
     ]
    }
   ],
   "source": [
    "g.remove_edge('a','b')"
   ]
  },
  {
   "cell_type": "code",
   "execution_count": 73,
   "id": "f8e4a78a",
   "metadata": {},
   "outputs": [
    {
     "data": {
      "image/png": "[encoded data removed]",
      "text/plain": [
       "<Figure size 432x288 with 1 Axes>"
      ]
     },
     "metadata": {},
     "output_type": "display_data"
    }
   ],
   "source": [
    "nx.draw(g,with_labels=True)"
   ]
  },
  {
   "cell_type": "code",
   "execution_count": 76,
   "id": "7494cd33",
   "metadata": {
    "scrolled": true
   },
   "outputs": [
    {
     "data": {
      "text/plain": [
       "[(1, 2, {'weight': 10})]"
      ]
     },
     "execution_count": 76,
     "metadata": {},
     "output_type": "execute_result"
    }
   ],
   "source": [
    "#in_edges和out_edges要给定节点的索引，\n",
    "#是用来区分一个节点，输入的边和输出的边\n",
    "list(g.in_edges(2,data=True))\n",
    "#生成的这个list就可以使用u,v,key进行遍历"
   ]
  },
  {
   "cell_type": "code",
   "execution_count": null,
   "id": "b8f33db3",
   "metadata": {},
   "outputs": [],
   "source": []
  },
  {
   "cell_type": "code",
   "execution_count": null,
   "id": "0d58377b",
   "metadata": {},
   "outputs": [],
   "source": []
  },
  {
   "cell_type": "code",
   "execution_count": null,
   "id": "ba3ac68a",
   "metadata": {},
   "outputs": [],
   "source": []
  },
  {
   "cell_type": "code",
   "execution_count": null,
   "id": "54a29a80",
   "metadata": {},
   "outputs": [],
   "source": []
  },
  {
   "cell_type": "code",
   "execution_count": null,
   "id": "d517aa1a",
   "metadata": {},
   "outputs": [],
   "source": []
  }
 ],
 "metadata": {
  "kernelspec": {
   "display_name": "Python 3 (ipykernel)",
   "language": "python",
   "name": "python3"
  },
  "language_info": {
   "codemirror_mode": {
    "name": "ipython",
    "version": 3
   },
   "file_extension": ".py",
   "mimetype": "text/x-python",
   "name": "python",
   "nbconvert_exporter": "python",
   "pygments_lexer": "ipython3",
   "version": "3.10.0"
  }
 },
 "nbformat": 4,
 "nbformat_minor": 5
}
