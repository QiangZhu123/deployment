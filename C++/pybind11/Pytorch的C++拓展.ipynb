{
 "cells": [
  {
   "cell_type": "markdown",
   "metadata": {},
   "source": [
    "### 1. C++拓展pytorch 的CPU"
   ]
  },
  {
   "cell_type": "code",
   "execution_count": 4,
   "metadata": {},
   "outputs": [],
   "source": [
    "#以字符串的形式写入文件，建立test.cpp文件\n",
    "head_file =r'''\n",
    "#include <torch/extension.h> \n",
    "#include <torch/torch.h>\n",
    "\n",
    "#include <vector>\n",
    "#include <iostream>\n",
    "\n",
    "torch::Tensor functest(torch::Tensor a,torch::Tensor b)\n",
    "{\n",
    "    return torch::add(a,b);\n",
    "}\n",
    "\n",
    "class Name{\n",
    "public:\n",
    "    Name(int a,int b){\n",
    "    a_value =a;\n",
    "    b_value =b;\n",
    "    }\n",
    "    int get_a(){return a_value;}\n",
    "    int get_b(){return b_value;}\n",
    "private:\n",
    "    int a_value;\n",
    "    int b_value;\n",
    "};\n",
    "\n",
    "\n",
    "//TORCH+EXTENSIO+NAME是模型的名字，不是字符串，\n",
    "//这个量一定要查看编译命令，看看有没有定义\n",
    "PYBIND11_MODULE(TORCH_EXTENSION_NAME myadd, m) {\n",
    "    //python中名字   函数指针    函数注释\n",
    "  m.def(\"forward\", &functest, \"new forward\");\n",
    "  \n",
    "  //类的引入\n",
    "  pybind11::class_<Name>(m,\"pyname\")\n",
    "  .def(pybind11::init<int,int>())\n",
    "  .def(\"get_a\",&Name::get_a)\n",
    "  .def(\"get_b\",&Name::get_b);\n",
    "}\n",
    "'''\n",
    "with open('test.cpp','w') as f:\n",
    "    f.write(head_file)"
   ]
  },
  {
   "cell_type": "markdown",
   "metadata": {},
   "source": [
    "### 第一种setuptools工具"
   ]
  },
  {
   "cell_type": "markdown",
   "metadata": {},
   "source": [
    "#### setup.py文件如下"
   ]
  },
  {
   "cell_type": "code",
   "execution_count": 6,
   "metadata": {},
   "outputs": [],
   "source": [
    "#把注释删除\n",
    "head_file = '''\n",
    "from setuptools import setup, Extension\n",
    "from torch.utils import cpp_extension\n",
    "import os\n",
    "include_dirs = os.path.dirname(os.path.abspath(__file__))\n",
    "setup(name='myop_file',#这个是文件名字，不是模块的名字,导入是下面的名字\n",
    "      ext_modules=[cpp_extension.CppExtension('myadd',#这个名字是模型名字，要设置好\n",
    "                                              ['test.cpp'],\n",
    "                                              include_dirs=[include_dirs])],#这个里面给定的才是模块名称\n",
    "      cmdclass={'build_ext': cpp_extension.BuildExtension})\n",
    "'''\n",
    "with open('setup.py','w') as f:\n",
    "    f.write(head_file)"
   ]
  },
  {
   "cell_type": "code",
   "execution_count": null,
   "metadata": {},
   "outputs": [],
   "source": [
    "#### 编译文件,生成模块包\n",
    "!python setup.py install"
   ]
  },
  {
   "cell_type": "code",
   "execution_count": null,
   "metadata": {},
   "outputs": [],
   "source": [
    "import torch #一定要先导入这个，因为构建的op.so库文件在/root/.cache/torch_extensions下面\n",
    "#一定要进入build/ 下面的文件lib.linux-x86_64-3.7/才能导入这个包\n",
    "#至关重要！！！！！！！！一定要进入build.lib（找到myadd的包）路径下面才能导入包\n",
    "#myadd.\n",
    "import myadd\n",
    "a =torch.rand(2,2)\n",
    "b=torch.rand(2,2)\n",
    "myadd.forward(a,b)"
   ]
  },
  {
   "cell_type": "markdown",
   "metadata": {},
   "source": [
    "### 第二种 "
   ]
  },
  {
   "cell_type": "code",
   "execution_count": null,
   "metadata": {},
   "outputs": [],
   "source": [
    "from torch.utils.cpp_extension import load\n",
    "\n",
    "modelfunc = load(name=\"model\", #这个是模块名字，后面要import 这个\n",
    "                sources=[\"test.cpp\"],\n",
    "               verbose=True, #显示编译过程\n",
    "               )\n",
    "#可以这样直接使用\n",
    "modelfunc.forward(10,20)\n",
    "#也可以这样用\n",
    "import torch\n",
    "import model\n",
    "model.forward(12,10)"
   ]
  },
  {
   "cell_type": "markdown",
   "metadata": {},
   "source": [
    "## load_line"
   ]
  },
  {
   "cell_type": "code",
   "execution_count": null,
   "metadata": {},
   "outputs": [],
   "source": [
    "import torch\n",
    "from torch.utils.cpp_extension import load_inline"
   ]
  },
  {
   "cell_type": "code",
   "execution_count": null,
   "metadata": {},
   "outputs": [],
   "source": [
    "source = '''\n",
    "int  add(int  x, int  y) {\n",
    "  return x+ y;\n",
    "}\n",
    "'''\n",
    "module = torch.utils.cpp_extension.load_inline(name='test',#生成在/root/.cache/torch_extensions\n",
    "                                               cpp_sources=[source],#放在列表中\n",
    "                                               functions=['add'])#函数指针，要和C++中的一样\n",
    "\n",
    "module.add(10,20)"
   ]
  }
 ],
 "metadata": {
  "kernelspec": {
   "display_name": "Python 3 (ipykernel)",
   "language": "python",
   "name": "python3"
  },
  "language_info": {
   "codemirror_mode": {
    "name": "ipython",
    "version": 3
   },
   "file_extension": ".py",
   "mimetype": "text/x-python",
   "name": "python",
   "nbconvert_exporter": "python",
   "pygments_lexer": "ipython3",
   "version": "3.10.0"
  }
 },
 "nbformat": 4,
 "nbformat_minor": 2
}
