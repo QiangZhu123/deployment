{
 "cells": [
  {
   "cell_type": "code",
   "execution_count": null,
   "id": "c83c47d2",
   "metadata": {},
   "outputs": [],
   "source": [
    "#安装MMDEPLOY ，这里只编译torchscript的自定义操作，后端操作要cmake处理\n",
    "!git clone https://github.com/open-mmlab/mmdeploy.git\n",
    "%cd mmdeploy\n",
    "!export MMDEPLOY_DIR=/kaggle/working/mmdeploy\n",
    "!pip install -e ."
   ]
  },
  {
   "cell_type": "code",
   "execution_count": null,
   "id": "b1f14daa",
   "metadata": {},
   "outputs": [],
   "source": [
    "#cmake编译自定义的OP\n",
    "%cd /kaggle/working/mmdeploy/\n",
    "!mkdir -p build\n",
    "%cd build\n",
    "!cmake -DCMAKE_CXX_COMPILER=g++ \n",
    "    -DMMDEPLOY_TARGET_BACKENDS=trt \n",
    "    -DTENSORRT_DIR=${TENSORRT_DIR} #这个必须设置\n",
    "    -DCUDNN_DIR=${CUDNN_DIR} #这个可以没有\n",
    "    ..\n",
    "!make -j$(nproc)\n",
    "!make install"
   ]
  },
  {
   "cell_type": "markdown",
   "id": "f593fc12",
   "metadata": {},
   "source": [
    "# 安装库"
   ]
  },
  {
   "cell_type": "code",
   "execution_count": null,
   "id": "9481c49d",
   "metadata": {},
   "outputs": [],
   "source": [
    "%cd /kaggle/working/\n",
    "!git clone https://github.com/open-mmlab/mmclassification.git\n",
    "%cd mmclassification\n",
    "!pip install -e . \n",
    "#保存路径\n",
    "!mkdir checkpoints\n",
    "#下载checkpoint\n",
    "!wget -c https://download.openmmlab.com/mmclassification/v0/resnet/resnet18_8xb32_in1k_20210831-fbbb1da6.pth \\\n",
    "      -O checkpoints/tmp.pth"
   ]
  },
  {
   "cell_type": "code",
   "execution_count": null,
   "id": "bd089e7b",
   "metadata": {},
   "outputs": [],
   "source": [
    "!python ./tools/deploy.py \\\n",
    "    /root/mmdeploy/configs/mmseg/segmentation_tensorrt_static-512x512.py \\\n",
    "    /root/mmsegmentation/configs/encnet/encnet_r50-d8_4xb4-80k_ade20k-512x512.py \\\n",
    "    /root/checkpoint/encnet_r50-d8_512x512_80k_ade20k_20200622_042412-44b46b04.pth \\\n",
    "   /root/mmsegmentation/resources/3dogs.jpg \\\n",
    "    --show \\\n",
    "    --device 'cuda:0'"
   ]
  },
  {
   "cell_type": "markdown",
   "id": "c50d62c4",
   "metadata": {},
   "source": [
    "# 执行"
   ]
  },
  {
   "cell_type": "code",
   "execution_count": null,
   "id": "063d2d36",
   "metadata": {},
   "outputs": [],
   "source": [
    "import tensorrt as trt\n",
    "assert trt.Builder(trt.Logger())\n",
    "from PIL import Image\n",
    "import numpy as np"
   ]
  },
  {
   "cell_type": "code",
   "execution_count": null,
   "id": "4ec50197",
   "metadata": {},
   "outputs": [],
   "source": [
    "# load all custom plugins\n",
    "trt.init_libnvinfer_plugins(logger,'')\n",
    "\n",
    "with open('end2end.engine','rb') as f:\n",
    "    engineString = f.read()\n",
    "    \n",
    "engine = trt.Runtime(logger).deserialize_cuda_engine(engineString) "
   ]
  },
  {
   "cell_type": "code",
   "execution_count": null,
   "id": "6c4d52eb",
   "metadata": {},
   "outputs": [],
   "source": [
    "context        =engine.create_execution_context()\n",
    "context.set_binding_shape(0,[1,3,224,224])"
   ]
  },
  {
   "cell_type": "code",
   "execution_count": null,
   "id": "f3577415",
   "metadata": {},
   "outputs": [],
   "source": [
    "def test_vis(img_path):\n",
    "    img=Image.open(img_path)\n",
    "    img_norm_cfg = dict(mean=[123.675, 116.28, 103.53], std=[58.395, 57.12, 57.375], to_rgb=True)\n",
    "    resize = transforms.Resize([512,512])\n",
    "    norm = transforms.Normalize(mean=img_norm_cfg['mean'],std=img_norm_cfg['std'])\n",
    "    img = resize(img)\n",
    "    to_tensor = transforms.ToTensor()\n",
    "    img_y = to_tensor(img)\n",
    "    #img_y = norm(img_y)\n",
    "    img_y.unsqueeze_(0)\n",
    "    img_y=img_y.cuda()\n",
    "    out =torch.rand(1,1,512,512).cuda()\n",
    "    context.execute_async_v2([img_y.data_ptr(),out.data_ptr()],0)\n",
    "    label = out.cpu()\n",
    "    label.squeeze_(0)\n",
    "    label = label.permute(1,2,0)\n",
    "    plt.figure(figsize=(20,20))\n",
    "    plt.subplot(1,2,1)\n",
    "    plt.imshow(img)\n",
    "    plt.subplot(1,2,2)\n",
    "    plt.imshow(label)\n",
    "    plt.show()"
   ]
  },
  {
   "cell_type": "code",
   "execution_count": null,
   "id": "81400033",
   "metadata": {},
   "outputs": [],
   "source": []
  }
 ],
 "metadata": {
  "kernelspec": {
   "display_name": "Python 3 (ipykernel)",
   "language": "python",
   "name": "python3"
  },
  "language_info": {
   "codemirror_mode": {
    "name": "ipython",
    "version": 3
   },
   "file_extension": ".py",
   "mimetype": "text/x-python",
   "name": "python",
   "nbconvert_exporter": "python",
   "pygments_lexer": "ipython3",
   "version": "3.10.0"
  }
 },
 "nbformat": 4,
 "nbformat_minor": 5
}
