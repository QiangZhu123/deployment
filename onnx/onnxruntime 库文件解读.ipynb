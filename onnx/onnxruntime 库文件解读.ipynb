{
 "cells": [
  {
   "cell_type": "code",
   "execution_count": null,
   "id": "aa2361ae",
   "metadata": {},
   "outputs": [],
   "source": [
    "整体原理是\n",
    "#define REGISTER_ONNXRUNTIME_OPS(domain, name)     \\\n",
    "static char __domain_##domain##name[] = #domain; \\\n",
    "static OrtOpsRegistry<__domain_##domain##name, name> ort_ops_registry_##domain##name {}\n",
    "\n",
    "用一个宏，再每个自定义操作cpp中将REGISTER_ONNXRUNTIME_OPS(mmdeploy, GridSampleOp)加入，\n",
    "作用就是，在全局中创建一个字典{domian:[op1,op2,op3]}，直接把customop放到字典中，\n",
    "之后实现RegisterCustomOps，将字典中所有的自定义操作全部注册到系统中"
   ]
  },
  {
   "cell_type": "code",
   "execution_count": null,
   "id": "ecb34ff7",
   "metadata": {},
   "outputs": [],
   "source": [
    "customOP继承的父类为Ort::CustomOpBase，只是一个空类\n",
    "里面有11个简单的函数，都是用lam方式实现的，所以当自定义操作符继承他后，直接按照简单执行即可重写\n",
    "没有什么好解读的"
   ]
  },
  {
   "cell_type": "code",
   "execution_count": null,
   "id": "9727fa5f",
   "metadata": {},
   "outputs": [],
   "source": [
    "opkernel:(要实现默认构造和compute函数)\n",
    "    构造函数：\n",
    "        传入两个参数，一个是api函数包类OrtApi，里面有很多函数；一个是参数集合OrtKernelInfo\n",
    "        用api从参数集合中解析出参数，赋值给kernel的函数\n",
    "        api本身也是一个参数，\n",
    "        例子：ort_.KernelInfoGetAttribute<int64_t>(info, \"align_corners\");读取align_corners参数\n",
    "        \n",
    "        allocator_ = Ort::AllocatorWithDefaultOptions();一般还会创建一个分配器，可能后续会用\n",
    "    Compute函数：\n",
    "        传入一个参数OrtKernelContext\n",
    "        \n",
    "        1、先读取kernel内中所有的参数\n",
    "        \n",
    "        2、获取每个输入，并且转化为指针，可以将context里的输入当作列表处理\n",
    "        const OrtValue *offset = ort_.KernelContext_GetInput(context, 1);\n",
    "        const float *offset_data = reinterpret_cast<const float *>(ort_.GetTensorData<float>(offset));\n",
    "        取出形状\n",
    "        OrtTensorTypeAndShapeInfo* info = ort.GetTensorTypeAndShape(offset)\n",
    "        \n",
    "        \n",
    "        3、计算\n",
    "        \n",
    "        4、设置输出空间，进行填充就行了\n",
    "        \n",
    "        OrtValue *output =\n",
    "        ort_.KernelContext_GetOutput(context, 0, output_dims.data(), output_dims.size());\n",
    "        float *out_ptr = ort_.GetTensorMutableData<float>(output);"
   ]
  },
  {
   "cell_type": "code",
   "execution_count": null,
   "id": "905eb034",
   "metadata": {},
   "outputs": [],
   "source": []
  }
 ],
 "metadata": {
  "kernelspec": {
   "display_name": "Python 3 (ipykernel)",
   "language": "python",
   "name": "python3"
  },
  "language_info": {
   "codemirror_mode": {
    "name": "ipython",
    "version": 3
   },
   "file_extension": ".py",
   "mimetype": "text/x-python",
   "name": "python",
   "nbconvert_exporter": "python",
   "pygments_lexer": "ipython3",
   "version": "3.10.0"
  }
 },
 "nbformat": 4,
 "nbformat_minor": 5
}
