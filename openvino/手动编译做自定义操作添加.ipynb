{
 "cells": [
  {
   "cell_type": "code",
   "execution_count": 1,
   "metadata": {},
   "outputs": [],
   "source": [
    "#https://github.com/openvinotoolkit/openvino/tree/master/docs/template_extension/new"
   ]
  },
  {
   "cell_type": "code",
   "execution_count": null,
   "metadata": {},
   "outputs": [],
   "source": [
    "#安装sudo,编译文件中需要\n",
    "!apt-get update\n",
    "!apt-get install sudo"
   ]
  },
  {
   "cell_type": "code",
   "execution_count": null,
   "metadata": {},
   "outputs": [],
   "source": [
    "#下载openvino\n",
    "!git clone https://github.com/openvinotoolkit/openvino.git\n",
    "#git clone -b 2023.0.1 https://gitee.com/openvinotoolkit-prc/openvino.git\n",
    "%cd openvino\n",
    "!git submodule update --init --recursive#这一步必须做，处理第三方库的"
   ]
  },
  {
   "cell_type": "code",
   "execution_count": null,
   "metadata": {},
   "outputs": [],
   "source": [
    "#更新cmake\n",
    "!pip install cmake --upgrade"
   ]
  },
  {
   "cell_type": "code",
   "execution_count": null,
   "metadata": {},
   "outputs": [],
   "source": [
    "#安装环境\n",
    "!y|./install_build_dependencies.sh"
   ]
  },
  {
   "cell_type": "code",
   "execution_count": null,
   "metadata": {},
   "outputs": [],
   "source": [
    "#配置PYTHON\n",
    "#进入到python路径下，安装python的环境\n",
    "%cd /kaggle/working/openvino/src/bindings/python/src/compatibility/openvino/\n",
    "!pip install -r requirements-dev.txt"
   ]
  },
  {
   "cell_type": "code",
   "execution_count": null,
   "metadata": {},
   "outputs": [],
   "source": [
    "#准备编译\n",
    "%cd /kaggle/working/openvino/\n",
    "!mkdir build \n",
    "%cd build"
   ]
  },
  {
   "cell_type": "code",
   "execution_count": null,
   "metadata": {},
   "outputs": [],
   "source": [
    "!cmake -DCMAKE_BUILD_TYPE=Release -DENABLE_PYTHON=ON  -DPYTHON_LIBRARY=/usr/lib/x86_64-linux-gnu/libpython3.8m.so  -DPYTHON_INCLUDE_DIR=/usr/include/python3.8-DENABLE_INTEL_GPU=OFF -DENABLE_OV_ONNX_FRONTEND=ON -DENABLE_OV_TENSORFLOW_FRONTEND=OFF .."
   ]
  },
  {
   "cell_type": "code",
   "execution_count": null,
   "metadata": {},
   "outputs": [],
   "source": [
    "#编译命令\n",
    "!cmake -DCMAKE_BUILD_TYPE=Release  \\\n",
    "        -DENABLE_PYTHON=ON  \\  #是否编译python API，使用PYTHON编译选项后才会生成python文件夹,\n",
    "\n",
    "        #指定python版本，可以全部删除\n",
    "        -DPYTHON_EXECUTABLE=`which python3.6`  \\ \n",
    "        -DPYTHON_LIBRARY=/usr/lib/x86_64-linux-gnu/libpython3.6m.so  \\\n",
    "        -DPYTHON_INCLUDE_DIR=/usr/include/python3.6  \\\n",
    "        \n",
    "\n",
    "        -DENABLE_INTEL_GPU=OFF  \\# 是否编译GPU的计算\n",
    "         #是否编译onnx的版本\n",
    "        -DENABLE_OV_ONNX_FRONTEND=ON \n",
    "        -DENABLE_OV_TENSORFLOW_FRONTEND=OFF ..\n",
    "!make --jobs=$(nproc --all)\n",
    "\n",
    "#。。。。。。。。。。。。。。。编译过程。。。。。。。。。。。。。。。。。。。。。。。。。。。"
   ]
  },
  {
   "cell_type": "code",
   "execution_count": null,
   "metadata": {},
   "outputs": [],
   "source": [
    "#编译完成以后，模块就放在了build文件夹里面\n",
    "#做自定义编译,编译完成后，一些需要的文件才会出现再build文件夹中,都是cmake文件\n",
    "#非常耗时的编译过程"
   ]
  },
  {
   "cell_type": "code",
   "execution_count": null,
   "metadata": {},
   "outputs": [],
   "source": [
    "!mkdir install_openvino\n",
    "#安装   给定已经build路径，和一个空文件路径用于存放安装文件\n",
    "!cmake --install <BUILDDIR> --prefix <INSTALLDIR>"
   ]
  },
  {
   "cell_type": "code",
   "execution_count": null,
   "metadata": {},
   "outputs": [],
   "source": [
    "#设置OpenVINO环境变量，要看是否真正执行了，会显示成功\n",
    "%cd install_openvino\n",
    "!./setupvars.sh"
   ]
  },
  {
   "cell_type": "markdown",
   "metadata": {},
   "source": [
    "/kaggle/working/install_openvino\n",
    "\n",
    "[setupvars.sh] OpenVINO environment initialized"
   ]
  },
  {
   "cell_type": "code",
   "execution_count": null,
   "metadata": {},
   "outputs": [],
   "source": [
    "#做完上面工作就可进行编译，可以使用下面的编译文件了，就是模板文件"
   ]
  },
  {
   "cell_type": "code",
   "execution_count": null,
   "metadata": {},
   "outputs": [],
   "source": [
    "%cd /kaggle/working/openvino/src/core/template_extension/new\n",
    "!mkdir build\n",
    "%cd build\n",
    "#编译时需要用到openvino的头文件，就要把他加入到工程中，注意这里的OpenVINO_DIR路径是安装的路径\n",
    "!cmake -DOpenVINO_DIR=/kaggle/working/install_openvino/runtime/cmake ../\n",
    "!cmake --build ."
   ]
  },
  {
   "cell_type": "markdown",
   "metadata": {},
   "source": [
    "    -- Configuring done\n",
    "    -- Generating done\n",
    "    -- Build files have been written to: /kaggle/working/openvino/docs/template_extension/new/build\n",
    "    Consolidate compiler generated dependencies of target openvino_template_extension\n",
    "    [100%] Built target openvino_template_extension\n",
    "  \n",
    "  \n",
    " 编译生成libopenvino_template_extension.so"
   ]
  },
  {
   "cell_type": "code",
   "execution_count": null,
   "metadata": {},
   "outputs": [],
   "source": [
    "#这个用的是pip安装的就行了，有命名冲突的问题\n",
    "from openvino.runtime import Core\n",
    "#可能会有动态库文件无法加载的问题，要把../install_openvino/runtime/lib/intel64文件放到动态库中\n",
    "core = Core()\n",
    "core.add_extension('libopenvino_template_extension.so')\n",
    "#如果出现无法加载的问题，可能还需要他的绝对路径，或者需要把他放到动态库中"
   ]
  },
  {
   "cell_type": "code",
   "execution_count": null,
   "metadata": {},
   "outputs": [],
   "source": []
  },
  {
   "cell_type": "code",
   "execution_count": null,
   "metadata": {},
   "outputs": [],
   "source": []
  }
 ],
 "metadata": {
  "kernelspec": {
   "display_name": "Python 3 (ipykernel)",
   "language": "python",
   "name": "python3"
  },
  "language_info": {
   "codemirror_mode": {
    "name": "ipython",
    "version": 3
   },
   "file_extension": ".py",
   "mimetype": "text/x-python",
   "name": "python",
   "nbconvert_exporter": "python",
   "pygments_lexer": "ipython3",
   "version": "3.10.0"
  }
 },
 "nbformat": 4,
 "nbformat_minor": 2
}
